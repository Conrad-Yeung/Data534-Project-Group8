{
 "cells": [
  {
   "cell_type": "markdown",
   "metadata": {},
   "source": [
    "Test Data Wrangling."
   ]
  },
  {
   "cell_type": "code",
   "execution_count": 29,
   "metadata": {},
   "outputs": [],
   "source": [
    "source(\"../R/get_platform.R\")"
   ]
  },
  {
   "cell_type": "code",
   "execution_count": 30,
   "metadata": {},
   "outputs": [],
   "source": [
    "# Test:\n",
    "key = \"95731a37dcf84a638308f6f40fb01801\"\n",
    "p = 1\n",
    "p_size = 5\n",
    "ordering = \"id\""
   ]
  },
  {
   "cell_type": "code",
   "execution_count": 31,
   "metadata": {},
   "outputs": [],
   "source": [
    "# install.packages(\"httr\")\n",
    "# install.packages(\"jsonlite\")\n",
    "# install.packages(\"dplyr\")"
   ]
  },
  {
   "cell_type": "code",
   "execution_count": 32,
   "metadata": {},
   "outputs": [],
   "source": [
    "library(\"jsonlite\")\n",
    "library(\"httr\")\n",
    "library(\"dplyr\")"
   ]
  },
  {
   "cell_type": "code",
   "execution_count": 38,
   "metadata": {},
   "outputs": [
    {
     "name": "stderr",
     "output_type": "stream",
     "text": [
      "Warning message in cbind(id, Name, slug, count, image_b, year, games):\n",
      "\"number of rows of result is not a multiple of vector length (arg 5)\"\n"
     ]
    },
    {
     "data": {
      "text/html": [
       "<table class=\"dataframe\">\n",
       "<caption>A data.frame: 6 × 7</caption>\n",
       "<thead>\n",
       "\t<tr><th></th><th scope=col>id</th><th scope=col>Name</th><th scope=col>slug</th><th scope=col>count</th><th scope=col>image_b</th><th scope=col>year</th><th scope=col>games</th></tr>\n",
       "\t<tr><th></th><th scope=col>&lt;chr&gt;</th><th scope=col>&lt;chr&gt;</th><th scope=col>&lt;chr&gt;</th><th scope=col>&lt;chr&gt;</th><th scope=col>&lt;chr&gt;</th><th scope=col>&lt;chr&gt;</th><th scope=col>&lt;chr&gt;</th></tr>\n",
       "</thead>\n",
       "<tbody>\n",
       "\t<tr><th scope=row>1</th><td>4  </td><td>PC             </td><td>pc             </td><td>298648</td><td>https://media.rawg.io/media/games/7fa/7fa0b586293c5861ee32490e953a4996.jpg</td><td>2020-</td><td>Grand Theft Auto V, Portal 2, The Witcher 3: Wild Hunt, Tomb Raider (2013), The Elder Scrolls V: Skyrim, Left 4 Dead 2</td></tr>\n",
       "\t<tr><th scope=row>2</th><td>187</td><td>PlayStation 5  </td><td>playstation5   </td><td>158   </td><td>https://media.rawg.io/media/games/909/909974d1c7863c2027241e265fe7011f.jpg</td><td>2020-</td><td>Grand Theft Auto V, Destiny 2, Warframe, Cyberpunk 2077, Tom Clancy's Rainbow Six Siege, Control                      </td></tr>\n",
       "\t<tr><th scope=row>3</th><td>18 </td><td>PlayStation 4  </td><td>playstation4   </td><td>5582  </td><td>https://media.rawg.io/media/games/34b/34b1f1850a1c06fd971bc6ab3ac0ce0e.jpg</td><td>2020-</td><td>Grand Theft Auto V, The Witcher 3: Wild Hunt, Tomb Raider (2013), Borderlands 2, BioShock Infinite, Life is Strange   </td></tr>\n",
       "\t<tr><th scope=row>4</th><td>1  </td><td>Xbox One       </td><td>xbox-one       </td><td>4269  </td><td>https://media.rawg.io/media/games/b45/b45575f34285f2c4479c9a5f719d972e.jpg</td><td>2020-</td><td>Grand Theft Auto V, Portal 2, The Witcher 3: Wild Hunt, Tomb Raider (2013), Borderlands 2, BioShock Infinite          </td></tr>\n",
       "\t<tr><th scope=row>5</th><td>186</td><td>Xbox Series S/X</td><td>xbox-series-x  </td><td>134   </td><td>https://media.rawg.io/media/games/a8b/a8bf6f31bfbdaf7d4b86c1953c62cee0.jpg</td><td>2020-</td><td>Grand Theft Auto V, Destiny 2, Warframe, Cyberpunk 2077, Tom Clancy's Rainbow Six Siege, Fall Guys: Ultimate Knockout </td></tr>\n",
       "\t<tr><th scope=row>6</th><td>7  </td><td>Nintendo Switch</td><td>nintendo-switch</td><td>4231  </td><td>https://media.rawg.io/media/games/7c4/7c448374df84b607f67ce9182a3a3ca7.jpg</td><td>2020-</td><td>The Witcher 3: Wild Hunt, The Elder Scrolls V: Skyrim, BioShock Infinite, Limbo, DOOM (2016), Rocket League           </td></tr>\n",
       "</tbody>\n",
       "</table>\n"
      ],
      "text/latex": [
       "A data.frame: 6 × 7\n",
       "\\begin{tabular}{r|lllllll}\n",
       "  & id & Name & slug & count & image\\_b & year & games\\\\\n",
       "  & <chr> & <chr> & <chr> & <chr> & <chr> & <chr> & <chr>\\\\\n",
       "\\hline\n",
       "\t1 & 4   & PC              & pc              & 298648 & https://media.rawg.io/media/games/7fa/7fa0b586293c5861ee32490e953a4996.jpg & 2020- & Grand Theft Auto V, Portal 2, The Witcher 3: Wild Hunt, Tomb Raider (2013), The Elder Scrolls V: Skyrim, Left 4 Dead 2\\\\\n",
       "\t2 & 187 & PlayStation 5   & playstation5    & 158    & https://media.rawg.io/media/games/909/909974d1c7863c2027241e265fe7011f.jpg & 2020- & Grand Theft Auto V, Destiny 2, Warframe, Cyberpunk 2077, Tom Clancy's Rainbow Six Siege, Control                      \\\\\n",
       "\t3 & 18  & PlayStation 4   & playstation4    & 5582   & https://media.rawg.io/media/games/34b/34b1f1850a1c06fd971bc6ab3ac0ce0e.jpg & 2020- & Grand Theft Auto V, The Witcher 3: Wild Hunt, Tomb Raider (2013), Borderlands 2, BioShock Infinite, Life is Strange   \\\\\n",
       "\t4 & 1   & Xbox One        & xbox-one        & 4269   & https://media.rawg.io/media/games/b45/b45575f34285f2c4479c9a5f719d972e.jpg & 2020- & Grand Theft Auto V, Portal 2, The Witcher 3: Wild Hunt, Tomb Raider (2013), Borderlands 2, BioShock Infinite          \\\\\n",
       "\t5 & 186 & Xbox Series S/X & xbox-series-x   & 134    & https://media.rawg.io/media/games/a8b/a8bf6f31bfbdaf7d4b86c1953c62cee0.jpg & 2020- & Grand Theft Auto V, Destiny 2, Warframe, Cyberpunk 2077, Tom Clancy's Rainbow Six Siege, Fall Guys: Ultimate Knockout \\\\\n",
       "\t6 & 7   & Nintendo Switch & nintendo-switch & 4231   & https://media.rawg.io/media/games/7c4/7c448374df84b607f67ce9182a3a3ca7.jpg & 2020- & The Witcher 3: Wild Hunt, The Elder Scrolls V: Skyrim, BioShock Infinite, Limbo, DOOM (2016), Rocket League           \\\\\n",
       "\\end{tabular}\n"
      ],
      "text/markdown": [
       "\n",
       "A data.frame: 6 × 7\n",
       "\n",
       "| <!--/--> | id &lt;chr&gt; | Name &lt;chr&gt; | slug &lt;chr&gt; | count &lt;chr&gt; | image_b &lt;chr&gt; | year &lt;chr&gt; | games &lt;chr&gt; |\n",
       "|---|---|---|---|---|---|---|---|\n",
       "| 1 | 4   | PC              | pc              | 298648 | https://media.rawg.io/media/games/7fa/7fa0b586293c5861ee32490e953a4996.jpg | 2020- | Grand Theft Auto V, Portal 2, The Witcher 3: Wild Hunt, Tomb Raider (2013), The Elder Scrolls V: Skyrim, Left 4 Dead 2 |\n",
       "| 2 | 187 | PlayStation 5   | playstation5    | 158    | https://media.rawg.io/media/games/909/909974d1c7863c2027241e265fe7011f.jpg | 2020- | Grand Theft Auto V, Destiny 2, Warframe, Cyberpunk 2077, Tom Clancy's Rainbow Six Siege, Control                       |\n",
       "| 3 | 18  | PlayStation 4   | playstation4    | 5582   | https://media.rawg.io/media/games/34b/34b1f1850a1c06fd971bc6ab3ac0ce0e.jpg | 2020- | Grand Theft Auto V, The Witcher 3: Wild Hunt, Tomb Raider (2013), Borderlands 2, BioShock Infinite, Life is Strange    |\n",
       "| 4 | 1   | Xbox One        | xbox-one        | 4269   | https://media.rawg.io/media/games/b45/b45575f34285f2c4479c9a5f719d972e.jpg | 2020- | Grand Theft Auto V, Portal 2, The Witcher 3: Wild Hunt, Tomb Raider (2013), Borderlands 2, BioShock Infinite           |\n",
       "| 5 | 186 | Xbox Series S/X | xbox-series-x   | 134    | https://media.rawg.io/media/games/a8b/a8bf6f31bfbdaf7d4b86c1953c62cee0.jpg | 2020- | Grand Theft Auto V, Destiny 2, Warframe, Cyberpunk 2077, Tom Clancy's Rainbow Six Siege, Fall Guys: Ultimate Knockout  |\n",
       "| 6 | 7   | Nintendo Switch | nintendo-switch | 4231   | https://media.rawg.io/media/games/7c4/7c448374df84b607f67ce9182a3a3ca7.jpg | 2020- | The Witcher 3: Wild Hunt, The Elder Scrolls V: Skyrim, BioShock Infinite, Limbo, DOOM (2016), Rocket League            |\n",
       "\n"
      ],
      "text/plain": [
       "  id  Name            slug            count \n",
       "1 4   PC              pc              298648\n",
       "2 187 PlayStation 5   playstation5    158   \n",
       "3 18  PlayStation 4   playstation4    5582  \n",
       "4 1   Xbox One        xbox-one        4269  \n",
       "5 186 Xbox Series S/X xbox-series-x   134   \n",
       "6 7   Nintendo Switch nintendo-switch 4231  \n",
       "  image_b                                                                   \n",
       "1 https://media.rawg.io/media/games/7fa/7fa0b586293c5861ee32490e953a4996.jpg\n",
       "2 https://media.rawg.io/media/games/909/909974d1c7863c2027241e265fe7011f.jpg\n",
       "3 https://media.rawg.io/media/games/34b/34b1f1850a1c06fd971bc6ab3ac0ce0e.jpg\n",
       "4 https://media.rawg.io/media/games/b45/b45575f34285f2c4479c9a5f719d972e.jpg\n",
       "5 https://media.rawg.io/media/games/a8b/a8bf6f31bfbdaf7d4b86c1953c62cee0.jpg\n",
       "6 https://media.rawg.io/media/games/7c4/7c448374df84b607f67ce9182a3a3ca7.jpg\n",
       "  year \n",
       "1 2020-\n",
       "2 2020-\n",
       "3 2020-\n",
       "4 2020-\n",
       "5 2020-\n",
       "6 2020-\n",
       "  games                                                                                                                 \n",
       "1 Grand Theft Auto V, Portal 2, The Witcher 3: Wild Hunt, Tomb Raider (2013), The Elder Scrolls V: Skyrim, Left 4 Dead 2\n",
       "2 Grand Theft Auto V, Destiny 2, Warframe, Cyberpunk 2077, Tom Clancy's Rainbow Six Siege, Control                      \n",
       "3 Grand Theft Auto V, The Witcher 3: Wild Hunt, Tomb Raider (2013), Borderlands 2, BioShock Infinite, Life is Strange   \n",
       "4 Grand Theft Auto V, Portal 2, The Witcher 3: Wild Hunt, Tomb Raider (2013), Borderlands 2, BioShock Infinite          \n",
       "5 Grand Theft Auto V, Destiny 2, Warframe, Cyberpunk 2077, Tom Clancy's Rainbow Six Siege, Fall Guys: Ultimate Knockout \n",
       "6 The Witcher 3: Wild Hunt, The Elder Scrolls V: Skyrim, BioShock Infinite, Limbo, DOOM (2016), Rocket League           "
      ]
     },
     "metadata": {},
     "output_type": "display_data"
    }
   ],
   "source": [
    "df <- get_platform()\n",
    "head(df)"
   ]
  },
  {
   "cell_type": "code",
   "execution_count": 39,
   "metadata": {},
   "outputs": [
    {
     "data": {
      "text/plain": [
       "      id                Name               slug              count          \n",
       " Length:50          Length:50          Length:50          Length:50         \n",
       " Class :character   Class :character   Class :character   Class :character  \n",
       " Mode  :character   Mode  :character   Mode  :character   Mode  :character  \n",
       "   image_b              year              games          \n",
       " Length:50          Length:50          Length:50         \n",
       " Class :character   Class :character   Class :character  \n",
       " Mode  :character   Mode  :character   Mode  :character  "
      ]
     },
     "metadata": {},
     "output_type": "display_data"
    }
   ],
   "source": [
    "summary(data)"
   ]
  },
  {
   "cell_type": "code",
   "execution_count": 41,
   "metadata": {},
   "outputs": [],
   "source": [
    "library(\"ggplot2\")"
   ]
  },
  {
   "cell_type": "code",
   "execution_count": 52,
   "metadata": {},
   "outputs": [
    {
     "data": {
      "image/png": "[encoded data removed]",
      "text/plain": [
       "plot without title"
      ]
     },
     "metadata": {
      "image/png": {
       "height": 420,
       "width": 420
      }
     },
     "output_type": "display_data"
    }
   ],
   "source": [
    "ggplot(data)+\n",
    "    aes(x=reorder(Name,-as.integer(count)), y=as.integer(count))+\n",
    "    geom_col()"
   ]
  }
 ],
 "metadata": {
  "kernelspec": {
   "display_name": "R",
   "language": "R",
   "name": "ir"
  },
  "language_info": {
   "codemirror_mode": "r",
   "file_extension": ".r",
   "mimetype": "text/x-r-source",
   "name": "R",
   "pygments_lexer": "r",
   "version": "4.0.2"
  }
 },
 "nbformat": 4,
 "nbformat_minor": 4
}
